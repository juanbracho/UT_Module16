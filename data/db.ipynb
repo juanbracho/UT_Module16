{
 "cells": [
  {
   "cell_type": "markdown",
   "metadata": {},
   "source": [
    "### Create Database"
   ]
  },
  {
   "cell_type": "code",
   "execution_count": 10,
   "metadata": {},
   "outputs": [],
   "source": [
    "# Import necessary libraries\n",
    "import sqlite3\n",
    "import pandas as pd\n",
    "\n",
    "# Establish a connection to SQLite (or your preferred database system)\n",
    "conn = sqlite3.connect('stocks_analysis.db')\n",
    "cursor = conn.cursor()"
   ]
  },
  {
   "cell_type": "code",
   "execution_count": 11,
   "metadata": {},
   "outputs": [
    {
     "data": {
      "text/plain": [
       "<sqlite3.Cursor at 0x1b250e3b540>"
      ]
     },
     "execution_count": 11,
     "metadata": {},
     "output_type": "execute_result"
    }
   ],
   "source": [
    "# Create tables for the different datasets\n",
    "cursor.execute('''\n",
    "    CREATE TABLE IF NOT EXISTS filtered_oil_data (\n",
    "        Date TEXT,\n",
    "        Open REAL,\n",
    "        High REAL,\n",
    "        Low REAL,\n",
    "        Close REAL,\n",
    "        Adj_Close REAL,\n",
    "        Volume INTEGER,\n",
    "        Company TEXT,\n",
    "        Year INTEGER,\n",
    "        Quarter TEXT\n",
    "    )\n",
    "''')\n",
    "\n",
    "cursor.execute('''\n",
    "    CREATE TABLE IF NOT EXISTS results_oil (\n",
    "        Quarter TEXT,\n",
    "        Company TEXT,\n",
    "        \"Quarterly Stock Price Change (%)\" REAL,\n",
    "        \"Quarterly Volume Change (%)\" REAL,\n",
    "        \"Quarterly ROI (%)\" REAL,\n",
    "        \"Cumulative ROI (%)\" REAL,\n",
    "        \"Cumulative ROI on $1500 ($)\" REAL\n",
    "    )\n",
    "''')\n",
    "\n",
    "cursor.execute('''\n",
    "    CREATE TABLE IF NOT EXISTS filtered_tele_data (\n",
    "        Date TEXT,\n",
    "        Open REAL,\n",
    "        High REAL,\n",
    "        Low REAL,\n",
    "        Close REAL,\n",
    "        Adj_Close REAL,\n",
    "        Volume INTEGER,\n",
    "        Company TEXT,\n",
    "        Year INTEGER,\n",
    "        Quarter TEXT\n",
    "    )\n",
    "''')\n",
    "\n",
    "cursor.execute('''\n",
    "    CREATE TABLE IF NOT EXISTS results_tele (\n",
    "        Quarter TEXT,\n",
    "        Company TEXT,\n",
    "        \"Quarterly Stock Price Change (%)\" REAL,\n",
    "        \"Quarterly Volume Change (%)\" REAL,\n",
    "        \"Quarterly ROI (%)\" REAL,\n",
    "        \"Cumulative ROI (%)\" REAL,\n",
    "        \"Cumulative ROI on $1500 ($)\" REAL\n",
    "    )\n",
    "''')\n",
    "\n",
    "cursor.execute('''\n",
    "    CREATE TABLE IF NOT EXISTS combined_filtered_data (\n",
    "        Date TEXT,\n",
    "        Open REAL,\n",
    "        High REAL,\n",
    "        Low REAL,\n",
    "        Close REAL,\n",
    "        Adj_Close REAL,\n",
    "        Volume INTEGER,\n",
    "        Company TEXT,\n",
    "        Year INTEGER,\n",
    "        Quarter TEXT\n",
    "    )\n",
    "''')\n",
    "\n",
    "cursor.execute('''\n",
    "    CREATE TABLE IF NOT EXISTS combined_results (\n",
    "        Quarter TEXT,\n",
    "        Company TEXT,\n",
    "        \"Quarterly Stock Price Change (%)\" REAL,\n",
    "        \"Quarterly Volume Change (%)\" REAL,\n",
    "        \"Quarterly ROI (%)\" REAL,\n",
    "        \"Cumulative ROI (%)\" REAL,\n",
    "        \"Cumulative ROI on $1500 ($)\" REAL\n",
    "    )\n",
    "''')"
   ]
  },
  {
   "cell_type": "code",
   "execution_count": 12,
   "metadata": {},
   "outputs": [],
   "source": [
    "# Load the CSV data\n",
    "filtered_oil_df = pd.read_csv('outputs/filtered_oil_data.csv')\n",
    "results_oil_df = pd.read_csv('outputs/results_oil.csv')\n",
    "filtered_tele_df = pd.read_csv('outputs/filtered_tele_data.csv')\n",
    "results_tele_df = pd.read_csv('outputs/results_tele.csv')\n",
    "combined_filtered_df = pd.read_csv('outputs/combined_filtered_data.csv')\n",
    "combined_results_df = pd.read_csv('outputs/combined_results.csv')"
   ]
  },
  {
   "cell_type": "code",
   "execution_count": 13,
   "metadata": {},
   "outputs": [
    {
     "data": {
      "text/plain": [
       "48"
      ]
     },
     "execution_count": 13,
     "metadata": {},
     "output_type": "execute_result"
    }
   ],
   "source": [
    "# Insert data into the respective tables\n",
    "filtered_oil_df.to_sql('filtered_oil_data', conn, if_exists='replace', index=False)\n",
    "results_oil_df.to_sql('results_oil', conn, if_exists='replace', index=False)\n",
    "filtered_tele_df.to_sql('filtered_tele_data', conn, if_exists='replace', index=False)\n",
    "results_tele_df.to_sql('results_tele', conn, if_exists='replace', index=False)\n",
    "combined_filtered_df.to_sql('combined_filtered_data', conn, if_exists='replace', index=False)\n",
    "combined_results_df.to_sql('combined_results', conn, if_exists='replace', index=False)\n"
   ]
  },
  {
   "cell_type": "code",
   "execution_count": 14,
   "metadata": {},
   "outputs": [
    {
     "name": "stdout",
     "output_type": "stream",
     "text": [
      "Data successfully inserted into the database.\n"
     ]
    }
   ],
   "source": [
    "# Commit and close the connection\n",
    "conn.commit()\n",
    "conn.close()\n",
    "\n",
    "print(\"Data successfully inserted into the database.\")"
   ]
  },
  {
   "cell_type": "code",
   "execution_count": 15,
   "metadata": {},
   "outputs": [
    {
     "name": "stdout",
     "output_type": "stream",
     "text": [
      "Head of filtered_oil_data table:\n",
      "         Date        Open        High         Low       Close  Adj Close  \\\n",
      "0  2020-01-02  120.809998  121.629997  120.769997  121.430000  98.217041   \n",
      "1  2020-01-03  121.779999  122.720001  120.739998  121.010002  97.877335   \n",
      "2  2020-01-06  121.239998  121.669998  120.330002  120.599998  97.545708   \n",
      "3  2020-01-07  119.019997  119.730003  117.769997  119.059998  96.300087   \n",
      "4  2020-01-08  118.550003  119.089996  117.650002  117.699997  95.200073   \n",
      "\n",
      "    Volume  Company  Year Quarter  \n",
      "0  5205000  Chevron  2020  2020Q1  \n",
      "1  6360900  Chevron  2020  2020Q1  \n",
      "2  9953000  Chevron  2020  2020Q1  \n",
      "3  7856900  Chevron  2020  2020Q1  \n",
      "4  7295900  Chevron  2020  2020Q1  \n",
      "\n",
      "\n",
      "Head of results_oil table:\n",
      "   Company Quarter  Percentage Change (%)  Quarterly Volume  Volatility  \\\n",
      "0  Chevron  2020Q1             -39.660713         788831500   15.409300   \n",
      "1  Chevron  2020Q2              26.312721         716030900    5.280256   \n",
      "2  Chevron  2020Q3             -17.541660         611381100    4.415306   \n",
      "3  Chevron  2020Q4              20.562346         717577300    7.561747   \n",
      "4  Chevron  2021Q1              24.601587         705058900    7.359032   \n",
      "\n",
      "   Quarter ROI (%)  ROI on $1500 ($)  \n",
      "0       -40.021521       -600.322814  \n",
      "1        28.370020        425.550294  \n",
      "2       -19.354838       -290.322564  \n",
      "3        18.095363        271.430452  \n",
      "4        23.065178        345.977669  \n",
      "\n",
      "\n",
      "Head of filtered_tele_data table:\n",
      "         Date       Open       High        Low      Close  Adj Close  \\\n",
      "0  2020-01-02  29.577040  29.622356  29.237160  29.350452  20.066734   \n",
      "1  2020-01-03  29.138973  29.607250  29.131420  29.501511  20.170006   \n",
      "2  2020-01-06  29.448641  29.569487  29.320242  29.531721  20.190668   \n",
      "3  2020-01-07  29.516617  29.682779  29.441088  29.645016  20.268124   \n",
      "4  2020-01-08  29.705439  29.871601  29.675226  29.735649  20.330088   \n",
      "\n",
      "     Volume Company  Year Quarter  \n",
      "0  43165445    AT&T  2020  2020Q1  \n",
      "1  36296666    AT&T  2020  2020Q1  \n",
      "2  51229797    AT&T  2020  2020Q1  \n",
      "3  37337462    AT&T  2020  2020Q1  \n",
      "4  53645832    AT&T  2020  2020Q1  \n",
      "\n",
      "\n",
      "Head of results_tele table:\n",
      "  Company Quarter  Percentage Change (%)  Quarterly Volume  Volatility  \\\n",
      "0    AT&T  2020Q1             -22.696858        3788275272    1.768276   \n",
      "1    AT&T  2020Q2               6.987519        3247371887    0.648152   \n",
      "2    AT&T  2020Q3              -5.083615        2783972152    0.324620   \n",
      "3    AT&T  2020Q4              -0.140404        3504242716    0.633428   \n",
      "4    AT&T  2021Q1               4.110060        3620696860    0.367133   \n",
      "\n",
      "   Quarter ROI (%)  ROI on $1500 ($)  \n",
      "0       -25.561797       -383.426957  \n",
      "1         6.518678         97.780175  \n",
      "2        -5.376697        -80.650461  \n",
      "3         0.841514         12.622708  \n",
      "4         2.994213         44.913188  \n",
      "\n",
      "\n",
      "Head of combined_filtered_data table:\n",
      "         Date        Open        High         Low       Close  Adj Close  \\\n",
      "0  2020-01-02  120.809998  121.629997  120.769997  121.430000  98.217041   \n",
      "1  2020-01-03  121.779999  122.720001  120.739998  121.010002  97.877335   \n",
      "2  2020-01-06  121.239998  121.669998  120.330002  120.599998  97.545708   \n",
      "3  2020-01-07  119.019997  119.730003  117.769997  119.059998  96.300087   \n",
      "4  2020-01-08  118.550003  119.089996  117.650002  117.699997  95.200073   \n",
      "\n",
      "    Volume  Company  Year Quarter  \n",
      "0  5205000  Chevron  2020  2020Q1  \n",
      "1  6360900  Chevron  2020  2020Q1  \n",
      "2  9953000  Chevron  2020  2020Q1  \n",
      "3  7856900  Chevron  2020  2020Q1  \n",
      "4  7295900  Chevron  2020  2020Q1  \n",
      "\n",
      "\n",
      "Head of combined_results table:\n",
      "   Company Quarter  Percentage Change (%)  Quarterly Volume  Volatility  \\\n",
      "0  Chevron  2020Q1             -39.660713         788831500   15.409300   \n",
      "1  Chevron  2020Q2              26.312721         716030900    5.280256   \n",
      "2  Chevron  2020Q3             -17.541660         611381100    4.415306   \n",
      "3  Chevron  2020Q4              20.562346         717577300    7.561747   \n",
      "4  Chevron  2021Q1              24.601587         705058900    7.359032   \n",
      "\n",
      "   Quarter ROI (%)  ROI on $1500 ($)  \n",
      "0       -40.021521       -600.322814  \n",
      "1        28.370020        425.550294  \n",
      "2       -19.354838       -290.322564  \n",
      "3        18.095363        271.430452  \n",
      "4        23.065178        345.977669  \n",
      "\n",
      "\n"
     ]
    }
   ],
   "source": [
    "# Check database and tables\n",
    "\n",
    "# Establish a connection to the SQLite database\n",
    "conn = sqlite3.connect('stocks_analysis.db')\n",
    "\n",
    "# Function to display the head of each table\n",
    "def display_table_head(table_name):\n",
    "    query = f\"SELECT * FROM {table_name} LIMIT 5\"\n",
    "    df = pd.read_sql(query, conn)\n",
    "    print(f\"Head of {table_name} table:\")\n",
    "    print(df)\n",
    "    print(\"\\n\")\n",
    "\n",
    "# List of tables to check\n",
    "tables = ['filtered_oil_data', 'results_oil', 'filtered_tele_data', 'results_tele', 'combined_filtered_data', 'combined_results']\n",
    "\n",
    "# Display the head of each table\n",
    "for table in tables:\n",
    "    display_table_head(table)\n",
    "\n",
    "# Close the connection\n",
    "conn.close()"
   ]
  }
 ],
 "metadata": {
  "kernelspec": {
   "display_name": "base",
   "language": "python",
   "name": "python3"
  },
  "language_info": {
   "codemirror_mode": {
    "name": "ipython",
    "version": 3
   },
   "file_extension": ".py",
   "mimetype": "text/x-python",
   "name": "python",
   "nbconvert_exporter": "python",
   "pygments_lexer": "ipython3",
   "version": "3.12.4"
  }
 },
 "nbformat": 4,
 "nbformat_minor": 2
}
