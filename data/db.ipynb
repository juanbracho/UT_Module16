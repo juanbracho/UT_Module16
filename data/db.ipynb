{
 "cells": [
  {
   "cell_type": "markdown",
   "metadata": {},
   "source": [
    "### Create Database"
   ]
  },
  {
   "cell_type": "code",
   "execution_count": 1,
   "metadata": {},
   "outputs": [],
   "source": [
    "# Import necessary libraries\n",
    "import sqlite3\n",
    "import pandas as pd\n",
    "\n",
    "# Establish a connection to SQLite (or your preferred database system)\n",
    "conn = sqlite3.connect('stocks_analysis.db')\n",
    "cursor = conn.cursor()\n"
   ]
  },
  {
   "cell_type": "code",
   "execution_count": 2,
   "metadata": {},
   "outputs": [
    {
     "data": {
      "text/plain": [
       "<sqlite3.Cursor at 0x2063ef0adc0>"
      ]
     },
     "execution_count": 2,
     "metadata": {},
     "output_type": "execute_result"
    }
   ],
   "source": [
    "# Create tables for the necessary datasets\n",
    "cursor.execute('''\n",
    "    CREATE TABLE IF NOT EXISTS combined_filtered_data (\n",
    "        Date TEXT,\n",
    "        Open REAL,\n",
    "        High REAL,\n",
    "        Low REAL,\n",
    "        Close REAL,\n",
    "        Adj_Close REAL,\n",
    "        Volume INTEGER,\n",
    "        Company TEXT,\n",
    "        Year INTEGER,\n",
    "        Quarter TEXT\n",
    "    )\n",
    "''')\n",
    "\n",
    "cursor.execute('''\n",
    "    CREATE TABLE IF NOT EXISTS combined_results (\n",
    "        Quarter TEXT,\n",
    "        Company TEXT,\n",
    "        \"Percentage Change (%)\" REAL,\n",
    "        \"Quarterly Volume\" REAL,\n",
    "        \"Volatility\" REAL,\n",
    "        \"Quarter ROI (%)\" REAL,\n",
    "        \"ROI on $1500 ($)\" REAL,\n",
    "        \"Cumulative ROI on $1500 ($)\" REAL\n",
    "    )\n",
    "''')\n",
    "\n",
    "cursor.execute('''\n",
    "    CREATE TABLE IF NOT EXISTS mean_filtered_data (\n",
    "        Quarter TEXT,\n",
    "        \"Mean Open\" REAL,\n",
    "        \"Mean High\" REAL,\n",
    "        \"Mean Low\" REAL,\n",
    "        \"Mean Close\" REAL,\n",
    "        \"Mean Adj_Close\" REAL,\n",
    "        \"Mean Volume\" REAL\n",
    "    )\n",
    "''')\n",
    "\n",
    "cursor.execute('''\n",
    "    CREATE TABLE IF NOT EXISTS mean_results (\n",
    "        Quarter TEXT,\n",
    "        \"Mean Percentage Change (%)\" REAL,\n",
    "        \"Mean Quarterly Volume\" REAL,\n",
    "        \"Mean Volatility\" REAL,\n",
    "        \"Mean Quarter ROI (%)\" REAL,\n",
    "        \"Mean ROI on $1500 ($)\" REAL,\n",
    "        \"Mean Cumulative ROI on $1500 ($)\" REAL\n",
    "    )\n",
    "''')"
   ]
  },
  {
   "cell_type": "code",
   "execution_count": 3,
   "metadata": {},
   "outputs": [
    {
     "data": {
      "text/plain": [
       "16"
      ]
     },
     "execution_count": 3,
     "metadata": {},
     "output_type": "execute_result"
    }
   ],
   "source": [
    "# Load the CSV data\n",
    "combined_filtered_df = pd.read_csv('outputs/combined_filtered_data.csv')\n",
    "combined_results_df = pd.read_csv('outputs/combined_results.csv')\n",
    "mean_filtered_df = pd.read_csv('outputs/mean_filtered_data.csv')\n",
    "mean_results_df = pd.read_csv('outputs/mean_results_data.csv')\n",
    "\n",
    "# Insert data into the respective tables\n",
    "combined_filtered_df.to_sql('combined_filtered_data', conn, if_exists='replace', index=False)\n",
    "combined_results_df.to_sql('combined_results', conn, if_exists='replace', index=False)\n",
    "mean_filtered_df.to_sql('mean_filtered_data', conn, if_exists='replace', index=False)\n",
    "mean_results_df.to_sql('mean_results', conn, if_exists='replace', index=False)"
   ]
  },
  {
   "cell_type": "code",
   "execution_count": 4,
   "metadata": {},
   "outputs": [
    {
     "name": "stdout",
     "output_type": "stream",
     "text": [
      "Data successfully inserted into the database.\n"
     ]
    }
   ],
   "source": [
    "# Commit and close the connection\n",
    "conn.commit()\n",
    "conn.close()\n",
    "\n",
    "print(\"Data successfully inserted into the database.\")"
   ]
  },
  {
   "cell_type": "code",
   "execution_count": 5,
   "metadata": {},
   "outputs": [
    {
     "name": "stdout",
     "output_type": "stream",
     "text": [
      "Head of combined_filtered_data table:\n",
      "         Date        Open        High         Low       Close  Adj Close  \\\n",
      "0  2020-01-02  120.809998  121.629997  120.769997  121.430000  98.217033   \n",
      "1  2020-01-03  121.779999  122.720001  120.739998  121.010002  97.877327   \n",
      "2  2020-01-06  121.239998  121.669998  120.330002  120.599998  97.545700   \n",
      "3  2020-01-07  119.019997  119.730003  117.769997  119.059998  96.300095   \n",
      "4  2020-01-08  118.550003  119.089996  117.650002  117.699997  95.200073   \n",
      "\n",
      "    Volume  Company  Year Quarter  \n",
      "0  5205000  Chevron  2020  2020Q1  \n",
      "1  6360900  Chevron  2020  2020Q1  \n",
      "2  9953000  Chevron  2020  2020Q1  \n",
      "3  7856900  Chevron  2020  2020Q1  \n",
      "4  7295900  Chevron  2020  2020Q1  \n",
      "\n",
      "\n",
      "Head of combined_results table:\n",
      "   Company Quarter  Percentage Change (%)     Volume  Volatility  \\\n",
      "0  Chevron  2020Q1             -39.660713  788831500   19.319348   \n",
      "1  Chevron  2020Q2              26.312721  716030900    6.044198   \n",
      "2  Chevron  2020Q3             -17.541660  611381100    5.688777   \n",
      "3  Chevron  2020Q4              20.562346  717577300    8.390445   \n",
      "4  Chevron  2021Q1              24.601587  705058900    7.943149   \n",
      "\n",
      "   Quarter ROI (%)  ROI on $1500 ($)  Growth Factor  \\\n",
      "0       -40.021521           -600.32       0.599785   \n",
      "1        28.370020            425.55       1.283700   \n",
      "2       -19.354838           -290.32       0.806452   \n",
      "3        18.095363            271.43       1.180954   \n",
      "4        23.065178            345.98       1.230652   \n",
      "\n",
      "   Cumulative ROI on $1500 ($)  \n",
      "0                       899.68  \n",
      "1                      1325.23  \n",
      "2                      1034.91  \n",
      "3                      1306.34  \n",
      "4                      1652.32  \n",
      "\n",
      "\n",
      "Head of mean_filtered_data table:\n",
      "  Quarter       Open       High        Low      Close  Adj Close  \\\n",
      "0  2020Q1  68.557688  69.545645  67.173118  68.301344  55.672946   \n",
      "1  2020Q2  58.378519  59.538624  57.070688  58.274762  48.163433   \n",
      "2  2020Q3  54.437552  55.150365  53.625625  54.291250  45.528692   \n",
      "3  2020Q4  51.749896  52.634062  50.922865  51.771823  44.155924   \n",
      "4  2021Q1  66.321967  67.341639  65.427158  66.453552  57.503470   \n",
      "\n",
      "         Volume    Year Sector  \n",
      "0  1.840715e+07  2020.0    Oil  \n",
      "1  1.659221e+07  2020.0    Oil  \n",
      "2  1.324692e+07  2020.0    Oil  \n",
      "3  1.789998e+07  2020.0    Oil  \n",
      "4  1.816304e+07  2021.0    Oil  \n",
      "\n",
      "\n",
      "Head of mean_results table:\n",
      "  Quarter  Percentage Change (%)        Volume  Volatility  Quarter ROI (%)  \\\n",
      "0  2020Q1             -46.569735  1.141243e+09   15.499543       -46.260876   \n",
      "1  2020Q2              26.671523  1.045309e+09    4.653132        31.003032   \n",
      "2  2020Q3             -19.317777  8.478029e+08    3.927879       -21.549051   \n",
      "3  2020Q4              22.933655  1.145599e+09    5.684853        21.387024   \n",
      "4  2021Q1              31.702665  1.107945e+09    6.416264        29.515902   \n",
      "\n",
      "   ROI on $1500 ($)  Growth Factor  Cumulative ROI on $1500 ($) Sector  \n",
      "0       -693.913333       0.537391                   806.086667    Oil  \n",
      "1        465.046667       1.310030                  1271.133333    Oil  \n",
      "2       -323.236667       0.784509                   947.896667    Oil  \n",
      "3        320.803333       1.213870                  1268.700000    Oil  \n",
      "4        442.740000       1.295159                  1711.440000    Oil  \n",
      "\n",
      "\n"
     ]
    }
   ],
   "source": [
    "# Check database and tables\n",
    "\n",
    "# Establish a connection to the SQLite database\n",
    "conn = sqlite3.connect('stocks_analysis.db')\n",
    "\n",
    "# Function to display the head of each table\n",
    "def display_table_head(table_name):\n",
    "    query = f\"SELECT * FROM {table_name} LIMIT 5\"\n",
    "    df = pd.read_sql(query, conn)\n",
    "    print(f\"Head of {table_name} table:\")\n",
    "    print(df)\n",
    "    print(\"\\n\")\n",
    "\n",
    "# List of tables to check\n",
    "tables = ['combined_filtered_data', 'combined_results', 'mean_filtered_data', 'mean_results']\n",
    "\n",
    "# Display the head of each table\n",
    "for table in tables:\n",
    "    display_table_head(table)\n",
    "\n",
    "# Close the connection\n",
    "conn.close()"
   ]
  }
 ],
 "metadata": {
  "kernelspec": {
   "display_name": "base",
   "language": "python",
   "name": "python3"
  },
  "language_info": {
   "codemirror_mode": {
    "name": "ipython",
    "version": 3
   },
   "file_extension": ".py",
   "mimetype": "text/x-python",
   "name": "python",
   "nbconvert_exporter": "python",
   "pygments_lexer": "ipython3",
   "version": "3.12.3"
  }
 },
 "nbformat": 4,
 "nbformat_minor": 2
}
