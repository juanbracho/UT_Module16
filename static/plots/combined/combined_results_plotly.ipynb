{
 "cells": [
  {
   "cell_type": "code",
   "execution_count": 1,
   "metadata": {},
   "outputs": [],
   "source": [
    "import sqlite3\n",
    "import pandas as pd\n",
    "import plotly.graph_objects as go\n",
    "\n",
    "# Connect to the SQLite database\n",
    "conn = sqlite3.connect('../../../data/stocks_analysis.db')\n",
    "\n",
    "# Query the results oil data table from the database\n",
    "df_results_oil = pd.read_sql_query(\"SELECT * FROM combined_results\", conn)\n",
    "\n",
    "# Disconnect from the database\n",
    "conn.close()\n",
    "\n",
    "# List the companies in the dataset\n",
    "companies = df_results_oil['Company'].unique()\n",
    "\n",
    "# Available columns (metrics) to plot\n",
    "available_columns = ['Percentage Change (%)', 'Volume', 'Volatility', 'Quarter ROI (%)']\n",
    "\n",
    "# Set default metric (can be changed via dropdown later)\n",
    "metric = 'Percentage Change (%)'"
   ]
  },
  {
   "cell_type": "code",
   "execution_count": 2,
   "metadata": {},
   "outputs": [
    {
     "data": {
      "application/vnd.plotly.v1+json": {
       "config": {
        "plotlyServerURL": "https://plot.ly"
       },
       "data": [
        {
         "mode": "lines",
         "name": "Chevron",
         "type": "scatter",
         "x": [
          "2020Q1",
          "2020Q2",
          "2020Q3",
          "2020Q4",
          "2021Q1",
          "2021Q2",
          "2021Q3",
          "2021Q4"
         ],
         "y": [
          -39.66071279014616,
          26.31272105882112,
          -17.541659740682444,
          20.562345545926423,
          24.6015868168096,
          -1.8061500350916075,
          -2.626872177362844,
          12.508382242239014
         ]
        },
        {
         "mode": "lines",
         "name": "ConocoPhillips",
         "type": "scatter",
         "x": [
          "2020Q1",
          "2020Q2",
          "2020Q3",
          "2020Q4",
          "2021Q1",
          "2021Q2",
          "2021Q3",
          "2021Q4"
         ],
         "y": [
          -54.12465458807388,
          37.981086339977736,
          -19.661271002019053,
          23.065061584481487,
          34.72327971805367,
          11.958532080212589,
          8.492366510622821,
          2.4393710723174107
         ]
        },
        {
         "mode": "lines",
         "name": "ExxonMobil",
         "type": "scatter",
         "x": [
          "2020Q1",
          "2020Q2",
          "2020Q3",
          "2020Q4",
          "2021Q1",
          "2021Q2",
          "2021Q3",
          "2021Q4"
         ],
         "y": [
          -45.92383733786865,
          15.720761305043249,
          -20.750400102493263,
          25.173558357094112,
          35.78312885330384,
          9.252485502289083,
          -4.963641278788347,
          -0.3118309958269353
         ]
        },
        {
         "mode": "lines",
         "name": "AT&T",
         "type": "scatter",
         "x": [
          "2020Q1",
          "2020Q2",
          "2020Q3",
          "2020Q4",
          "2021Q1",
          "2021Q2",
          "2021Q3",
          "2021Q4"
         ],
         "y": [
          -22.69685841452708,
          6.987519470021096,
          -5.083615011741093,
          -0.1404044214628722,
          4.110059767278522,
          -5.940267958433092,
          -5.599447845480015,
          -8.983804046329197
         ]
        },
        {
         "mode": "lines",
         "name": "T-Mobile",
         "type": "scatter",
         "x": [
          "2020Q1",
          "2020Q2",
          "2020Q3",
          "2020Q4",
          "2021Q1",
          "2021Q2",
          "2021Q3",
          "2021Q4"
         ],
         "y": [
          5.662304090846784,
          24.397985366582425,
          6.8124032262714005,
          15.052268240089978,
          -6.176842957174915,
          13.756368960503524,
          -11.35956716859482,
          -8.078262322967625
         ]
        },
        {
         "mode": "lines",
         "name": "Verizon",
         "type": "scatter",
         "x": [
          "2020Q1",
          "2020Q2",
          "2020Q3",
          "2020Q4",
          "2021Q1",
          "2021Q2",
          "2021Q3",
          "2021Q4"
         ],
         "y": [
          -11.433250826314676,
          3.779289624340249,
          8.761662842433111,
          -2.338098186392202,
          -0.7646507390141577,
          -4.356776927559029,
          -3.17996249140863,
          -3.86740055916578
         ]
        }
       ],
       "layout": {
        "legend": {
         "orientation": "v",
         "x": 1.1,
         "y": 0.5
        },
        "template": {
         "data": {
          "bar": [
           {
            "error_x": {
             "color": "#2a3f5f"
            },
            "error_y": {
             "color": "#2a3f5f"
            },
            "marker": {
             "line": {
              "color": "#E5ECF6",
              "width": 0.5
             },
             "pattern": {
              "fillmode": "overlay",
              "size": 10,
              "solidity": 0.2
             }
            },
            "type": "bar"
           }
          ],
          "barpolar": [
           {
            "marker": {
             "line": {
              "color": "#E5ECF6",
              "width": 0.5
             },
             "pattern": {
              "fillmode": "overlay",
              "size": 10,
              "solidity": 0.2
             }
            },
            "type": "barpolar"
           }
          ],
          "carpet": [
           {
            "aaxis": {
             "endlinecolor": "#2a3f5f",
             "gridcolor": "white",
             "linecolor": "white",
             "minorgridcolor": "white",
             "startlinecolor": "#2a3f5f"
            },
            "baxis": {
             "endlinecolor": "#2a3f5f",
             "gridcolor": "white",
             "linecolor": "white",
             "minorgridcolor": "white",
             "startlinecolor": "#2a3f5f"
            },
            "type": "carpet"
           }
          ],
          "choropleth": [
           {
            "colorbar": {
             "outlinewidth": 0,
             "ticks": ""
            },
            "type": "choropleth"
           }
          ],
          "contour": [
           {
            "colorbar": {
             "outlinewidth": 0,
             "ticks": ""
            },
            "colorscale": [
             [
              0,
              "#0d0887"
             ],
             [
              0.1111111111111111,
              "#46039f"
             ],
             [
              0.2222222222222222,
              "#7201a8"
             ],
             [
              0.3333333333333333,
              "#9c179e"
             ],
             [
              0.4444444444444444,
              "#bd3786"
             ],
             [
              0.5555555555555556,
              "#d8576b"
             ],
             [
              0.6666666666666666,
              "#ed7953"
             ],
             [
              0.7777777777777778,
              "#fb9f3a"
             ],
             [
              0.8888888888888888,
              "#fdca26"
             ],
             [
              1,
              "#f0f921"
             ]
            ],
            "type": "contour"
           }
          ],
          "contourcarpet": [
           {
            "colorbar": {
             "outlinewidth": 0,
             "ticks": ""
            },
            "type": "contourcarpet"
           }
          ],
          "heatmap": [
           {
            "colorbar": {
             "outlinewidth": 0,
             "ticks": ""
            },
            "colorscale": [
             [
              0,
              "#0d0887"
             ],
             [
              0.1111111111111111,
              "#46039f"
             ],
             [
              0.2222222222222222,
              "#7201a8"
             ],
             [
              0.3333333333333333,
              "#9c179e"
             ],
             [
              0.4444444444444444,
              "#bd3786"
             ],
             [
              0.5555555555555556,
              "#d8576b"
             ],
             [
              0.6666666666666666,
              "#ed7953"
             ],
             [
              0.7777777777777778,
              "#fb9f3a"
             ],
             [
              0.8888888888888888,
              "#fdca26"
             ],
             [
              1,
              "#f0f921"
             ]
            ],
            "type": "heatmap"
           }
          ],
          "heatmapgl": [
           {
            "colorbar": {
             "outlinewidth": 0,
             "ticks": ""
            },
            "colorscale": [
             [
              0,
              "#0d0887"
             ],
             [
              0.1111111111111111,
              "#46039f"
             ],
             [
              0.2222222222222222,
              "#7201a8"
             ],
             [
              0.3333333333333333,
              "#9c179e"
             ],
             [
              0.4444444444444444,
              "#bd3786"
             ],
             [
              0.5555555555555556,
              "#d8576b"
             ],
             [
              0.6666666666666666,
              "#ed7953"
             ],
             [
              0.7777777777777778,
              "#fb9f3a"
             ],
             [
              0.8888888888888888,
              "#fdca26"
             ],
             [
              1,
              "#f0f921"
             ]
            ],
            "type": "heatmapgl"
           }
          ],
          "histogram": [
           {
            "marker": {
             "pattern": {
              "fillmode": "overlay",
              "size": 10,
              "solidity": 0.2
             }
            },
            "type": "histogram"
           }
          ],
          "histogram2d": [
           {
            "colorbar": {
             "outlinewidth": 0,
             "ticks": ""
            },
            "colorscale": [
             [
              0,
              "#0d0887"
             ],
             [
              0.1111111111111111,
              "#46039f"
             ],
             [
              0.2222222222222222,
              "#7201a8"
             ],
             [
              0.3333333333333333,
              "#9c179e"
             ],
             [
              0.4444444444444444,
              "#bd3786"
             ],
             [
              0.5555555555555556,
              "#d8576b"
             ],
             [
              0.6666666666666666,
              "#ed7953"
             ],
             [
              0.7777777777777778,
              "#fb9f3a"
             ],
             [
              0.8888888888888888,
              "#fdca26"
             ],
             [
              1,
              "#f0f921"
             ]
            ],
            "type": "histogram2d"
           }
          ],
          "histogram2dcontour": [
           {
            "colorbar": {
             "outlinewidth": 0,
             "ticks": ""
            },
            "colorscale": [
             [
              0,
              "#0d0887"
             ],
             [
              0.1111111111111111,
              "#46039f"
             ],
             [
              0.2222222222222222,
              "#7201a8"
             ],
             [
              0.3333333333333333,
              "#9c179e"
             ],
             [
              0.4444444444444444,
              "#bd3786"
             ],
             [
              0.5555555555555556,
              "#d8576b"
             ],
             [
              0.6666666666666666,
              "#ed7953"
             ],
             [
              0.7777777777777778,
              "#fb9f3a"
             ],
             [
              0.8888888888888888,
              "#fdca26"
             ],
             [
              1,
              "#f0f921"
             ]
            ],
            "type": "histogram2dcontour"
           }
          ],
          "mesh3d": [
           {
            "colorbar": {
             "outlinewidth": 0,
             "ticks": ""
            },
            "type": "mesh3d"
           }
          ],
          "parcoords": [
           {
            "line": {
             "colorbar": {
              "outlinewidth": 0,
              "ticks": ""
             }
            },
            "type": "parcoords"
           }
          ],
          "pie": [
           {
            "automargin": true,
            "type": "pie"
           }
          ],
          "scatter": [
           {
            "fillpattern": {
             "fillmode": "overlay",
             "size": 10,
             "solidity": 0.2
            },
            "type": "scatter"
           }
          ],
          "scatter3d": [
           {
            "line": {
             "colorbar": {
              "outlinewidth": 0,
              "ticks": ""
             }
            },
            "marker": {
             "colorbar": {
              "outlinewidth": 0,
              "ticks": ""
             }
            },
            "type": "scatter3d"
           }
          ],
          "scattercarpet": [
           {
            "marker": {
             "colorbar": {
              "outlinewidth": 0,
              "ticks": ""
             }
            },
            "type": "scattercarpet"
           }
          ],
          "scattergeo": [
           {
            "marker": {
             "colorbar": {
              "outlinewidth": 0,
              "ticks": ""
             }
            },
            "type": "scattergeo"
           }
          ],
          "scattergl": [
           {
            "marker": {
             "colorbar": {
              "outlinewidth": 0,
              "ticks": ""
             }
            },
            "type": "scattergl"
           }
          ],
          "scattermapbox": [
           {
            "marker": {
             "colorbar": {
              "outlinewidth": 0,
              "ticks": ""
             }
            },
            "type": "scattermapbox"
           }
          ],
          "scatterpolar": [
           {
            "marker": {
             "colorbar": {
              "outlinewidth": 0,
              "ticks": ""
             }
            },
            "type": "scatterpolar"
           }
          ],
          "scatterpolargl": [
           {
            "marker": {
             "colorbar": {
              "outlinewidth": 0,
              "ticks": ""
             }
            },
            "type": "scatterpolargl"
           }
          ],
          "scatterternary": [
           {
            "marker": {
             "colorbar": {
              "outlinewidth": 0,
              "ticks": ""
             }
            },
            "type": "scatterternary"
           }
          ],
          "surface": [
           {
            "colorbar": {
             "outlinewidth": 0,
             "ticks": ""
            },
            "colorscale": [
             [
              0,
              "#0d0887"
             ],
             [
              0.1111111111111111,
              "#46039f"
             ],
             [
              0.2222222222222222,
              "#7201a8"
             ],
             [
              0.3333333333333333,
              "#9c179e"
             ],
             [
              0.4444444444444444,
              "#bd3786"
             ],
             [
              0.5555555555555556,
              "#d8576b"
             ],
             [
              0.6666666666666666,
              "#ed7953"
             ],
             [
              0.7777777777777778,
              "#fb9f3a"
             ],
             [
              0.8888888888888888,
              "#fdca26"
             ],
             [
              1,
              "#f0f921"
             ]
            ],
            "type": "surface"
           }
          ],
          "table": [
           {
            "cells": {
             "fill": {
              "color": "#EBF0F8"
             },
             "line": {
              "color": "white"
             }
            },
            "header": {
             "fill": {
              "color": "#C8D4E3"
             },
             "line": {
              "color": "white"
             }
            },
            "type": "table"
           }
          ]
         },
         "layout": {
          "annotationdefaults": {
           "arrowcolor": "#2a3f5f",
           "arrowhead": 0,
           "arrowwidth": 1
          },
          "autotypenumbers": "strict",
          "coloraxis": {
           "colorbar": {
            "outlinewidth": 0,
            "ticks": ""
           }
          },
          "colorscale": {
           "diverging": [
            [
             0,
             "#8e0152"
            ],
            [
             0.1,
             "#c51b7d"
            ],
            [
             0.2,
             "#de77ae"
            ],
            [
             0.3,
             "#f1b6da"
            ],
            [
             0.4,
             "#fde0ef"
            ],
            [
             0.5,
             "#f7f7f7"
            ],
            [
             0.6,
             "#e6f5d0"
            ],
            [
             0.7,
             "#b8e186"
            ],
            [
             0.8,
             "#7fbc41"
            ],
            [
             0.9,
             "#4d9221"
            ],
            [
             1,
             "#276419"
            ]
           ],
           "sequential": [
            [
             0,
             "#0d0887"
            ],
            [
             0.1111111111111111,
             "#46039f"
            ],
            [
             0.2222222222222222,
             "#7201a8"
            ],
            [
             0.3333333333333333,
             "#9c179e"
            ],
            [
             0.4444444444444444,
             "#bd3786"
            ],
            [
             0.5555555555555556,
             "#d8576b"
            ],
            [
             0.6666666666666666,
             "#ed7953"
            ],
            [
             0.7777777777777778,
             "#fb9f3a"
            ],
            [
             0.8888888888888888,
             "#fdca26"
            ],
            [
             1,
             "#f0f921"
            ]
           ],
           "sequentialminus": [
            [
             0,
             "#0d0887"
            ],
            [
             0.1111111111111111,
             "#46039f"
            ],
            [
             0.2222222222222222,
             "#7201a8"
            ],
            [
             0.3333333333333333,
             "#9c179e"
            ],
            [
             0.4444444444444444,
             "#bd3786"
            ],
            [
             0.5555555555555556,
             "#d8576b"
            ],
            [
             0.6666666666666666,
             "#ed7953"
            ],
            [
             0.7777777777777778,
             "#fb9f3a"
            ],
            [
             0.8888888888888888,
             "#fdca26"
            ],
            [
             1,
             "#f0f921"
            ]
           ]
          },
          "colorway": [
           "#636efa",
           "#EF553B",
           "#00cc96",
           "#ab63fa",
           "#FFA15A",
           "#19d3f3",
           "#FF6692",
           "#B6E880",
           "#FF97FF",
           "#FECB52"
          ],
          "font": {
           "color": "#2a3f5f"
          },
          "geo": {
           "bgcolor": "white",
           "lakecolor": "white",
           "landcolor": "#E5ECF6",
           "showlakes": true,
           "showland": true,
           "subunitcolor": "white"
          },
          "hoverlabel": {
           "align": "left"
          },
          "hovermode": "closest",
          "mapbox": {
           "style": "light"
          },
          "paper_bgcolor": "white",
          "plot_bgcolor": "#E5ECF6",
          "polar": {
           "angularaxis": {
            "gridcolor": "white",
            "linecolor": "white",
            "ticks": ""
           },
           "bgcolor": "#E5ECF6",
           "radialaxis": {
            "gridcolor": "white",
            "linecolor": "white",
            "ticks": ""
           }
          },
          "scene": {
           "xaxis": {
            "backgroundcolor": "#E5ECF6",
            "gridcolor": "white",
            "gridwidth": 2,
            "linecolor": "white",
            "showbackground": true,
            "ticks": "",
            "zerolinecolor": "white"
           },
           "yaxis": {
            "backgroundcolor": "#E5ECF6",
            "gridcolor": "white",
            "gridwidth": 2,
            "linecolor": "white",
            "showbackground": true,
            "ticks": "",
            "zerolinecolor": "white"
           },
           "zaxis": {
            "backgroundcolor": "#E5ECF6",
            "gridcolor": "white",
            "gridwidth": 2,
            "linecolor": "white",
            "showbackground": true,
            "ticks": "",
            "zerolinecolor": "white"
           }
          },
          "shapedefaults": {
           "line": {
            "color": "#2a3f5f"
           }
          },
          "ternary": {
           "aaxis": {
            "gridcolor": "white",
            "linecolor": "white",
            "ticks": ""
           },
           "baxis": {
            "gridcolor": "white",
            "linecolor": "white",
            "ticks": ""
           },
           "bgcolor": "#E5ECF6",
           "caxis": {
            "gridcolor": "white",
            "linecolor": "white",
            "ticks": ""
           }
          },
          "title": {
           "x": 0.05
          },
          "xaxis": {
           "automargin": true,
           "gridcolor": "white",
           "linecolor": "white",
           "ticks": "",
           "title": {
            "standoff": 15
           },
           "zerolinecolor": "white",
           "zerolinewidth": 2
          },
          "yaxis": {
           "automargin": true,
           "gridcolor": "white",
           "linecolor": "white",
           "ticks": "",
           "title": {
            "standoff": 15
           },
           "zerolinecolor": "white",
           "zerolinewidth": 2
          }
         }
        },
        "updatemenus": [
         {
          "buttons": [
           {
            "args": [
             {
              "y": [
               [
                -39.66071279014616,
                26.31272105882112,
                -17.541659740682444,
                20.562345545926423,
                24.6015868168096,
                -1.8061500350916075,
                -2.626872177362844,
                12.508382242239014
               ],
               [
                -54.12465458807388,
                37.981086339977736,
                -19.661271002019053,
                23.065061584481487,
                34.72327971805367,
                11.958532080212589,
                8.492366510622821,
                2.4393710723174107
               ],
               [
                -45.92383733786865,
                15.720761305043249,
                -20.750400102493263,
                25.173558357094112,
                35.78312885330384,
                9.252485502289083,
                -4.963641278788347,
                -0.3118309958269353
               ],
               [
                -22.69685841452708,
                6.987519470021096,
                -5.083615011741093,
                -0.1404044214628722,
                4.110059767278522,
                -5.940267958433092,
                -5.599447845480015,
                -8.983804046329197
               ],
               [
                5.662304090846784,
                24.397985366582425,
                6.8124032262714005,
                15.052268240089978,
                -6.176842957174915,
                13.756368960503524,
                -11.35956716859482,
                -8.078262322967625
               ],
               [
                -11.433250826314676,
                3.779289624340249,
                8.761662842433111,
                -2.338098186392202,
                -0.7646507390141577,
                -4.356776927559029,
                -3.17996249140863,
                -3.86740055916578
               ]
              ]
             }
            ],
            "label": "Percentage Change (%)",
            "method": "update"
           },
           {
            "args": [
             {
              "y": [
               [
                788831500,
                716030900,
                611381100,
                717577300,
                705058900,
                608668800,
                669614200,
                658214400
               ],
               [
                624612700,
                566239600,
                444869500,
                781031700,
                689248900,
                537368600,
                550913900,
                511491700
               ],
               [
                2010286000,
                1853656700,
                1487158200,
                1938188100,
                1929528100,
                1505610200,
                1325173700,
                1284388400
               ],
               [
                3788275272,
                3247371887,
                2783972152,
                3504242716,
                3620696860,
                3756694829,
                2709809752,
                4452803979
               ],
               [
                328931400,
                508900300,
                287853100,
                236239500,
                298304900,
                258023500,
                286484700,
                324331000
               ],
               [
                1309337900,
                1067560900,
                859781900,
                961922000,
                1270636400,
                1031240300,
                951584000,
                1373874500
               ]
              ]
             }
            ],
            "label": "Volume",
            "method": "update"
           },
           {
            "args": [
             {
              "y": [
               [
                19.319348062246217,
                6.044198324036557,
                5.688777105294613,
                8.390444815682688,
                7.943148810723182,
                2.5888034942282467,
                3.02108414581496,
                3.742836227142369
               ],
               [
                14.475489224934584,
                4.675746239294635,
                2.828907177960342,
                4.799994883611459,
                5.7977764987923015,
                3.799867383795539,
                3.58890112339051,
                1.9304628800656312
               ],
               [
                12.703791361256608,
                3.23945053984472,
                3.2659520082741813,
                3.864118298132018,
                5.507866462999324,
                2.8153124818788884,
                2.472765400376405,
                1.70873852055136
               ],
               [
                2.5741882798392477,
                0.8528412161366365,
                0.4690405351389184,
                0.8413160400817273,
                0.4816059705193589,
                0.8904636704538818,
                0.4026779393423864,
                0.9385283090171036
               ],
               [
                7.064550958880624,
                7.501845739091895,
                4.4485657585187575,
                8.568223587122711,
                4.14177517298823,
                6.063110589547152,
                7.235863362816997,
                3.704423954967091
               ],
               [
                3.0368065678568748,
                1.4078669281413028,
                1.917425290116637,
                1.4189185299306757,
                1.3299551111144836,
                0.9562556242520268,
                0.7405645363657398,
                1.1070567759625751
               ]
              ]
             }
            ],
            "label": "Volatility",
            "method": "update"
           },
           {
            "args": [
             {
              "y": [
               [
                -40.02152094297576,
                28.370019586612177,
                -19.35483760703627,
                18.09536348126563,
                23.06517796559219,
                -0.4940188693782594,
                -5.1425901420658215,
                14.801405862587307
               ],
               [
                -52.818627737431015,
                43.315146299886734,
                -22.455722937852048,
                24.07695391388773,
                30.790126470871915,
                14.646089515119076,
                8.103362781368919,
                5.557185148275023
               ],
               [
                -45.942479533746656,
                21.323929680414068,
                -22.836591288171515,
                21.98875437662836,
                34.692402420828,
                12.002844767152425,
                -8.565213709617165,
                2.9961265508645027
               ],
               [
                -25.561797155031822,
                6.518678318301334,
                -5.376697368460754,
                0.8415138696117039,
                2.994212535825267,
                -4.828039577528374,
                -6.507439495018002,
                -9.35888636872864
               ],
               [
                6.364103001085505,
                25.49705290611542,
                8.213474905479035,
                17.260874872622285,
                -6.708862197685958,
                15.072303455195524,
                -11.60923753240012,
                -8.734654008644005
               ],
               [
                -12.463345377575784,
                5.009525844029017,
                7.986933225071362,
                -1.0942786349857565,
                -1.3738086349581813,
                -3.4298546410999107,
                -3.8625880595494735,
                -3.813404953414722
               ]
              ]
             }
            ],
            "label": "Quarter ROI (%)",
            "method": "update"
           }
          ],
          "direction": "down",
          "showactive": true,
          "x": 0.17,
          "xanchor": "left",
          "y": 1.2,
          "yanchor": "top"
         }
        ],
        "xaxis": {
         "title": {
          "text": "Quarter"
         }
        }
       }
      }
     },
     "metadata": {},
     "output_type": "display_data"
    }
   ],
   "source": [
    "# Create an empty figure object\n",
    "fig = go.Figure()\n",
    "\n",
    "# Add traces for each oil company using the default metric (initially set to 'Adj Close')\n",
    "for company in df_results_oil['Company'].unique():\n",
    "    company_data = df_results_oil[df_results_oil['Company'] == company]\n",
    "    fig.add_trace(go.Scatter(x=company_data['Quarter'], y=company_data[metric], mode='lines', name=company))\n",
    "\n",
    "# Create dropdown menu for selecting different metrics\n",
    "dropdown_buttons = [\n",
    "    dict(\n",
    "        label=col,\n",
    "        method=\"update\",\n",
    "        args=[{\"y\": [df_results_oil[df_results_oil['Company'] == company][col] for company in df_results_oil['Company'].unique()]}]\n",
    "    ) for col in available_columns\n",
    "]\n",
    "\n",
    "# Create layout with dropdown\n",
    "fig.update_layout(\n",
    "    xaxis_title=\"Quarter\",\n",
    "    legend=dict(\n",
    "        orientation=\"v\",\n",
    "        y=0.5,\n",
    "        x=1.1\n",
    "    ),\n",
    "    updatemenus=[\n",
    "        dict(\n",
    "            buttons=dropdown_buttons,\n",
    "            direction=\"down\",\n",
    "            showactive=True,\n",
    "            x=0.17,  # Adjust the position of the dropdown\n",
    "            xanchor=\"left\",\n",
    "            y=1.2,\n",
    "            yanchor=\"top\"\n",
    "        )\n",
    "    ]\n",
    ")\n",
    "\n",
    "# Display the plot\n",
    "fig.show()"
   ]
  },
  {
   "cell_type": "code",
   "execution_count": 3,
   "metadata": {},
   "outputs": [],
   "source": [
    "# Save the oil plot as an HTML file\n",
    "fig.write_html('combined_results_plotly.html')"
   ]
  }
 ],
 "metadata": {
  "kernelspec": {
   "display_name": "base",
   "language": "python",
   "name": "python3"
  },
  "language_info": {
   "codemirror_mode": {
    "name": "ipython",
    "version": 3
   },
   "file_extension": ".py",
   "mimetype": "text/x-python",
   "name": "python",
   "nbconvert_exporter": "python",
   "pygments_lexer": "ipython3",
   "version": "3.12.3"
  }
 },
 "nbformat": 4,
 "nbformat_minor": 2
}
