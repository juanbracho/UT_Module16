{
 "cells": [
  {
   "cell_type": "code",
   "execution_count": 3,
   "metadata": {},
   "outputs": [],
   "source": [
    "import dash\n",
    "from dash import dcc, html\n",
    "from dash.dependencies import Input, Output\n",
    "import plotly.graph_objects as go\n",
    "import pandas as pd\n",
    "\n",
    "# Load the dataset\n",
    "df_data = pd.read_csv('../../data/outputs/combined_filtered_data.csv')\n",
    "\n",
    "# List the companies in the dataset\n",
    "companies = df_data['Company'].unique()\n",
    "\n",
    "available_columns = ['Adj Close', 'Volume', 'Open', 'Close', 'High', 'Low']"
   ]
  },
  {
   "cell_type": "code",
   "execution_count": 4,
   "metadata": {},
   "outputs": [
    {
     "data": {
      "text/html": [
       "\n",
       "        <iframe\n",
       "            width=\"100%\"\n",
       "            height=\"650\"\n",
       "            src=\"http://127.0.0.1:8056/\"\n",
       "            frameborder=\"0\"\n",
       "            allowfullscreen\n",
       "            \n",
       "        ></iframe>\n",
       "        "
      ],
      "text/plain": [
       "<IPython.lib.display.IFrame at 0x248b326fa10>"
      ]
     },
     "metadata": {},
     "output_type": "display_data"
    }
   ],
   "source": [
    "# Create the layout for the Dash app without the H1 title\n",
    "app = dash.Dash(__name__)\n",
    "\n",
    "app.layout = html.Div([\n",
    "    # Div to hold both dropdowns in a horizontal layout\n",
    "    html.Div([\n",
    "        # Dropdown for selecting companies (multi-select)\n",
    "        dcc.Dropdown(\n",
    "            id='company-filter',\n",
    "            options=[{'label': company, 'value': company} for company in companies],\n",
    "            value=companies,  # Initially select all companies\n",
    "            multi=True,\n",
    "            placeholder=\"Select companies\",\n",
    "            style={'width': '45%', 'display': 'inline-block'}  # Adjust width\n",
    "        ),\n",
    "        \n",
    "        # Dropdown for selecting the metric\n",
    "        dcc.Dropdown(\n",
    "            id='metric-dropdown',\n",
    "            options=[{'label': metric, 'value': metric} for metric in available_columns],\n",
    "            value='Adj Close',  # Default to 'Adj Close'\n",
    "            clearable=False,\n",
    "            style={'width': '45%', 'display': 'inline-block', 'margin-left': '5%'}  # Adjust width and space\n",
    "        )\n",
    "    ], style={'display': 'flex', 'justify-content': 'center'}),  # Ensure the divs are centered\n",
    "    \n",
    "    # Graph to display the filtered data\n",
    "    dcc.Graph(id='data-graph')\n",
    "])\n",
    "\n",
    "# Callback to update the graph based on selected companies and metrics\n",
    "@app.callback(\n",
    "    Output('data-graph', 'figure'),\n",
    "    [Input('company-filter', 'value'), Input('metric-dropdown', 'value')]\n",
    ")\n",
    "def update_graph(selected_companies, selected_metric):\n",
    "    # Filter the dataframe based on selected companies\n",
    "    filtered_df = df_data[df_data['Company'].isin(selected_companies)]\n",
    "    \n",
    "    # Create the figure\n",
    "    fig = go.Figure()\n",
    "\n",
    "    # Add traces for each selected company\n",
    "    for company in selected_companies:\n",
    "        company_data = filtered_df[filtered_df['Company'] == company]\n",
    "        fig.add_trace(go.Scatter(x=company_data['Date'], y=company_data[selected_metric],\n",
    "                                 mode='lines', name=company))\n",
    "    \n",
    "    # Update the layout without a title\n",
    "    fig.update_layout(\n",
    "        xaxis_title=\"Date\",\n",
    "        yaxis_title=selected_metric,\n",
    "        showlegend=True  # Keep the legend visible\n",
    "    )\n",
    "    \n",
    "    return fig\n",
    "\n",
    "# Run the app (disable debug mode to remove the blue circle)\n",
    "if __name__ == '__main__':\n",
    "    app.run_server(debug=False, port=8054)"
   ]
  }
 ],
 "metadata": {
  "kernelspec": {
   "display_name": "base",
   "language": "python",
   "name": "python3"
  },
  "language_info": {
   "codemirror_mode": {
    "name": "ipython",
    "version": 3
   },
   "file_extension": ".py",
   "mimetype": "text/x-python",
   "name": "python",
   "nbconvert_exporter": "python",
   "pygments_lexer": "ipython3",
   "version": "3.12.4"
  }
 },
 "nbformat": 4,
 "nbformat_minor": 2
}
