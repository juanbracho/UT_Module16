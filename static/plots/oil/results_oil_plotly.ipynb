{
 "cells": [
  {
   "cell_type": "code",
   "execution_count": 3,
   "metadata": {},
   "outputs": [],
   "source": [
    "import dash\n",
    "from dash import dcc, html\n",
    "from dash.dependencies import Input, Output\n",
    "import plotly.graph_objects as go\n",
    "import pandas as pd\n",
    "\n",
    "# Load the dataset\n",
    "df_results_oil = pd.read_csv('../../../data/outputs/results_oil.csv')\n",
    "\n",
    "# List the companies in the dataset\n",
    "companies = df_results_oil['Company'].unique()\n",
    "\n",
    "# Available columns (metrics) to plot\n",
    "available_columns = ['Percentage Change (%)', 'Quarterly Volume', 'Volatility', 'Quarter ROI (%)', 'ROI on $1500 ($)']"
   ]
  },
  {
   "cell_type": "code",
   "execution_count": 4,
   "metadata": {},
   "outputs": [
    {
     "data": {
      "text/html": [
       "\n",
       "        <iframe\n",
       "            width=\"100%\"\n",
       "            height=\"650\"\n",
       "            src=\"http://127.0.0.1:8051/\"\n",
       "            frameborder=\"0\"\n",
       "            allowfullscreen\n",
       "            \n",
       "        ></iframe>\n",
       "        "
      ],
      "text/plain": [
       "<IPython.lib.display.IFrame at 0x24d614d1880>"
      ]
     },
     "metadata": {},
     "output_type": "display_data"
    }
   ],
   "source": [
    "# Create the layout for the Dash app\n",
    "app = dash.Dash(__name__)\n",
    "\n",
    "app.layout = html.Div([\n",
    "    # Div to hold both dropdowns in a horizontal layout\n",
    "    html.Div([\n",
    "        # Dropdown for selecting companies (multi-select)\n",
    "        dcc.Dropdown(\n",
    "            id='company-filter-results',\n",
    "            options=[{'label': company, 'value': company} for company in companies],\n",
    "            value=companies,  # Initially select all companies\n",
    "            multi=True,\n",
    "            placeholder=\"Select companies\",\n",
    "            style={'width': '45%', 'display': 'inline-block'}  # Adjust width\n",
    "        ),\n",
    "        \n",
    "        # Dropdown for selecting the metric\n",
    "        dcc.Dropdown(\n",
    "            id='metric-dropdown-results',\n",
    "            options=[{'label': metric, 'value': metric} for metric in available_columns],\n",
    "            value='Percentage Change (%)',  # Default to 'Percentage Change (%)'\n",
    "            clearable=False,\n",
    "            style={'width': '45%', 'display': 'inline-block', 'margin-left': '5%'}  # Adjust width and space\n",
    "        )\n",
    "    ], style={'display': 'flex', 'justify-content': 'center'}),  # Ensure the divs are centered\n",
    "    \n",
    "    # Graph to display the filtered data\n",
    "    dcc.Graph(id='results-oil-graph')\n",
    "])\n",
    "\n",
    "# Callback to update the graph based on selected companies and metrics\n",
    "@app.callback(\n",
    "    Output('results-oil-graph', 'figure'),\n",
    "    [Input('company-filter-results', 'value'), Input('metric-dropdown-results', 'value')]\n",
    ")\n",
    "def update_results_graph(selected_companies, selected_metric):\n",
    "    # Filter the dataframe based on selected companies\n",
    "    filtered_df = df_results_oil[df_results_oil['Company'].isin(selected_companies)]\n",
    "    \n",
    "    # Create the figure\n",
    "    fig = go.Figure()\n",
    "\n",
    "    # Add traces for each selected company\n",
    "    for company in selected_companies:\n",
    "        company_data = filtered_df[filtered_df['Company'] == company]\n",
    "        fig.add_trace(go.Scatter(x=company_data['Quarter'], y=company_data[selected_metric],\n",
    "                                 mode='lines', name=company))\n",
    "    \n",
    "    # Update the layout without a title\n",
    "    fig.update_layout(\n",
    "        xaxis_title=\"Quarter\",\n",
    "        yaxis_title=selected_metric,\n",
    "        showlegend=True  # Keep the legend visible\n",
    "    )\n",
    "    \n",
    "    return fig\n",
    "\n",
    "# Run the app (disable debug mode to remove the blue circle)\n",
    "if __name__ == '__main__':\n",
    "    app.run_server(debug=False, port=8051)"
   ]
  }
 ],
 "metadata": {
  "kernelspec": {
   "display_name": "base",
   "language": "python",
   "name": "python3"
  },
  "language_info": {
   "codemirror_mode": {
    "name": "ipython",
    "version": 3
   },
   "file_extension": ".py",
   "mimetype": "text/x-python",
   "name": "python",
   "nbconvert_exporter": "python",
   "pygments_lexer": "ipython3",
   "version": "3.12.4"
  }
 },
 "nbformat": 4,
 "nbformat_minor": 2
}
